{
 "cells": [
  {
   "cell_type": "code",
   "execution_count": 5,
   "metadata": {},
   "outputs": [],
   "source": [
    "import os\n",
    "import datetime\n",
    "import time\n",
    "from dotenv import load_dotenv\n",
    "import anthropic\n",
    "from firecrawl import FirecrawlApp\n",
    "import json\n",
    "import requests\n",
    "import os\n",
    "import json\n",
    "\n",
    "# Load environment variables\n",
    "load_dotenv()\n",
    "\n",
    "# Retrieve API keys from environment variables\n",
    "anthropic_api_key = os.getenv(\"ANTHROPIC_API_KEY\")\n",
    "firecrawl_api_key = os.getenv(\"FIRECRAWL_API_KEY\")\n"
   ]
  },
  {
   "cell_type": "code",
   "execution_count": 7,
   "metadata": {},
   "outputs": [],
   "source": [
    "# Initialize the FirecrawlApp with your API key\n",
    "app = FirecrawlApp(api_key=firecrawl_api_key)\n",
    "\n",
    "# Crawl a website\n",
    "crawl_url = 'https://dify.ai/'\n",
    "params = {\n",
    "    'crawlOptions': {\n",
    "        'limit': 10\n",
    "    }\n",
    "}\n",
    "crawl_result = app.crawl_url(crawl_url, params=params)\n",
    "\n",
    "if crawl_result is not None:\n",
    "    # Convert crawl results to JSON format, excluding 'content' field from each entry\n",
    "    cleaned_crawl_result = [{k: v for k, v in entry.items() if k != 'content'} for entry in crawl_result]\n",
    "\n",
    "    # Save the modified results as a text file containing JSON data\n",
    "    with open('crawl_result.txt', 'w') as file:\n",
    "        file.write(json.dumps(cleaned_crawl_result, indent=4))\n",
    "else:\n",
    "    print(\"No data returned from crawl.\")\n"
   ]
  },
  {
   "cell_type": "code",
   "execution_count": 21,
   "metadata": {},
   "outputs": [
    {
     "name": "stdout",
     "output_type": "stream",
     "text": [
      "{'id': 'msg_01A529h2zHKLCxKAgTiNc4P1', 'type': 'message', 'role': 'assistant', 'model': 'claude-3-5-sonnet-20240620', 'content': [{'type': 'text', 'text': 'Based on my analysis of the website content, here are some suggestions to improve the copy:\\n\\n1. Streamline the messaging: The homepage contains a lot of information, which can be overwhelming. Consider focusing on 3-5 key benefits or features and elaborate on those, rather than trying to cover everything.\\n\\n2. Clarify the value proposition: While the tagline \"The Innovation Engine for GenAI Applications\" is catchy, it may not immediately convey what Dify does. Consider a more specific tagline that explains the core benefit to users.\\n\\n3. Use more concrete language: Some descriptions are quite abstract (e.g., \"Fortify apps securely with reliable data pipelines\"). Try to use more specific, tangible language to describe features and benefits.\\n\\n4. Improve consistency: The tone and style of writing varies throughout the page. Aim for a consistent voice that aligns with your brand personality.\\n\\n5. Enhance readability: Break up longer paragraphs into shorter, more digestible chunks. Use bullet points or numbered lists where appropriate to make information easier to scan.\\n\\n6. Add social proof: Include customer testimonials, case studies, or statistics to build credibility and show real-world applications of your platform.\\n\\n7. Clarify the target audience: Be more explicit about who the product is for (e.g., developers, business analysts, etc.) and how it solves their specific pain points.\\n\\n8. Improve CTAs: Make your call-to-action buttons more compelling and specific (e.g., \"Start Your Free Trial\" instead of just \"Get Started\").\\n\\n9. Reduce jargon: While some technical terms are necessary, try to explain concepts in simpler terms for a broader audience.\\n\\n10. Highlight differentiators: Make it clearer how Dify stands out from competitors or alternative solutions.\\n\\n11. Improve the flow: Organize the content in a more logical sequence, guiding the reader through a clear narrative about your product\\'s value and capabilities.\\n\\nBy implementing these suggestions, you can create more engaging, clear, and persuasive copy that better communicates the value of Dify to potential users.'}], 'stop_reason': 'end_turn', 'stop_sequence': None, 'usage': {'input_tokens': 17, 'cache_creation_input_tokens': 4736, 'cache_read_input_tokens': 0, 'output_tokens': 467}}\n"
     ]
    }
   ],
   "source": [
    "\n",
    "\n",
    "website_dump = open('crawl_result.txt', 'r').read()\n",
    "\n",
    "anthropic_api_key = os.getenv(\"ANTHROPIC_API_KEY\")\n",
    "\n",
    "headers = {\n",
    "    \"content-type\": \"application/json\",\n",
    "    \"x-api-key\": anthropic_api_key,\n",
    "    \"anthropic-version\": \"2023-06-01\",\n",
    "    \"anthropic-beta\": \"prompt-caching-2024-07-31\"\n",
    "}\n",
    "\n",
    "data = {\n",
    "    \"model\": \"claude-3-5-sonnet-20240620\",\n",
    "    \"max_tokens\": 1024,\n",
    "    \"system\": [\n",
    "        {\n",
    "            \"type\": \"text\",\n",
    "            \"text\": \"You are an AI assistant tasked with analyzing websites for copy errors.\\n\"\n",
    "        },\n",
    "        {\n",
    "            \"type\": \"text\",\n",
    "            \"text\": website_dump,\n",
    "            \"cache_control\": {\"type\": \"ephemeral\"}\n",
    "        }\n",
    "    ],\n",
    "    \"messages\": [\n",
    "        {\n",
    "            \"role\": \"user\",\n",
    "            \"content\": \"How can I improve the copy on this website?\"\n",
    "        }\n",
    "    ]\n",
    "}\n",
    "\n",
    "response = requests.post(\n",
    "    \"https://api.anthropic.com/v1/messages\",\n",
    "    headers=headers,\n",
    "    data=json.dumps(data)\n",
    ")\n",
    "\n",
    "print(response.json())\n",
    "\n"
   ]
  }
 ],
 "metadata": {
  "kernelspec": {
   "display_name": "Python 3",
   "language": "python",
   "name": "python3"
  },
  "language_info": {
   "codemirror_mode": {
    "name": "ipython",
    "version": 3
   },
   "file_extension": ".py",
   "mimetype": "text/x-python",
   "name": "python",
   "nbconvert_exporter": "python",
   "pygments_lexer": "ipython3",
   "version": "3.10.13"
  }
 },
 "nbformat": 4,
 "nbformat_minor": 2
}
