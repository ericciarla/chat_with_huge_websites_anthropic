{
 "cells": [
  {
   "cell_type": "code",
   "execution_count": 5,
   "metadata": {},
   "outputs": [],
   "source": [
    "import os\n",
    "import datetime\n",
    "import time\n",
    "from dotenv import load_dotenv\n",
    "import anthropic\n",
    "from firecrawl import FirecrawlApp\n",
    "import json\n",
    "\n",
    "# Load environment variables\n",
    "load_dotenv()\n",
    "\n",
    "# Retrieve API keys from environment variables\n",
    "anthropic_api_key = os.getenv(\"ANTHROPIC_API_KEY\")\n",
    "firecrawl_api_key = os.getenv(\"FIRECRAWL_API_KEY\")\n"
   ]
  },
  {
   "cell_type": "code",
   "execution_count": 7,
   "metadata": {},
   "outputs": [],
   "source": [
    "# Initialize the FirecrawlApp with your API key\n",
    "app = FirecrawlApp(api_key=firecrawl_api_key)\n",
    "\n",
    "# Crawl a website\n",
    "crawl_url = 'https://dify.ai/'\n",
    "params = {\n",
    "    'crawlOptions': {\n",
    "        'limit': 10\n",
    "    }\n",
    "}\n",
    "crawl_result = app.crawl_url(crawl_url, params=params)\n",
    "\n",
    "if crawl_result is not None:\n",
    "    # Convert crawl results to JSON format, excluding 'content' field from each entry\n",
    "    cleaned_crawl_result = [{k: v for k, v in entry.items() if k != 'content'} for entry in crawl_result]\n",
    "\n",
    "    # Save the modified results as a text file containing JSON data\n",
    "    with open('crawl_result.txt', 'w') as file:\n",
    "        file.write(json.dumps(cleaned_crawl_result, indent=4))\n",
    "else:\n",
    "    print(\"No data returned from crawl.\")\n"
   ]
  },
  {
   "cell_type": "code",
   "execution_count": 20,
   "metadata": {},
   "outputs": [
    {
     "name": "stdout",
     "output_type": "stream",
     "text": [
      "{'id': 'msg_01MLSgCP12zVjSbJhPNBFoCt', 'type': 'message', 'role': 'assistant', 'model': 'claude-3-5-sonnet-20240620', 'content': [{'type': 'text', 'text': 'Based on my analysis of the website content, here are some suggestions to potentially improve the Dify.AI website:\\n\\n1. Simplify navigation: The top menu has multiple repetitions of \"Product\", \"Pricing\", \"Docs\", and \"Blog\". Streamline this to avoid confusion and redundancy.\\n\\n2. Improve mobile responsiveness: Ensure all elements, including images and text, scale properly on different screen sizes for better user experience.\\n\\n3. Enhance content organization: The page contains a lot of information. Consider organizing it into clearer sections with consistent formatting to improve readability.\\n\\n4. Optimize loading speed: Large images and numerous elements may slow down the page. Optimize images and consider lazy loading for content further down the page.\\n\\n5. Add more specific call-to-actions (CTAs): While there are \"Get Started\" buttons, consider adding more targeted CTAs for different user needs or interests.\\n\\n6. Provide more concrete examples: Include case studies or specific use cases to illustrate how Dify.AI can be applied in real-world scenarios.\\n\\n7. Improve accessibility: Ensure proper contrast ratios for text and background colors, and add alt text to all images for screen readers.\\n\\n8. Add a search function: Given the amount of information, a search bar could help users find specific details quickly.\\n\\n9. Include customer testimonials: Add quotes or success stories from current users to build trust and credibility.\\n\\n10. Localization: Consider offering more language options beyond English, Chinese, and Japanese to cater to a wider global audience.\\n\\n11. FAQ section: Add a frequently asked questions section to address common queries and reduce support load.\\n\\n12. Improve footer organization: The current footer seems cluttered. Organize links into clearer categories for easier navigation.\\n\\n13. Add a blog preview: Instead of just a link to the blog, showcase recent blog post titles on the homepage to encourage engagement.\\n\\nThese suggestions aim to enhance user experience, improve navigation, and make the content more accessible and engaging for visitors.'}], 'stop_reason': 'end_turn', 'stop_sequence': None, 'usage': {'input_tokens': 14, 'cache_creation_input_tokens': 0, 'cache_read_input_tokens': 4736, 'output_tokens': 439}}\n"
     ]
    }
   ],
   "source": [
    "import requests\n",
    "import os\n",
    "import json\n",
    "\n",
    "website_dump = open('crawl_result.txt', 'r').read()\n",
    "\n",
    "anthropic_api_key = os.getenv(\"ANTHROPIC_API_KEY\")\n",
    "\n",
    "headers = {\n",
    "    \"content-type\": \"application/json\",\n",
    "    \"x-api-key\": anthropic_api_key,\n",
    "    \"anthropic-version\": \"2023-06-01\",\n",
    "    \"anthropic-beta\": \"prompt-caching-2024-07-31\"\n",
    "}\n",
    "\n",
    "data = {\n",
    "    \"model\": \"claude-3-5-sonnet-20240620\",\n",
    "    \"max_tokens\": 1024,\n",
    "    \"system\": [\n",
    "        {\n",
    "            \"type\": \"text\",\n",
    "            \"text\": \"You are an AI assistant tasked with analyzing literary works. Your goal is to provide insightful commentary on themes, characters, and writing style.\\n\"\n",
    "        },\n",
    "        {\n",
    "            \"type\": \"text\",\n",
    "            \"text\": website_dump,\n",
    "            \"cache_control\": {\"type\": \"ephemeral\"}\n",
    "        }\n",
    "    ],\n",
    "    \"messages\": [\n",
    "        {\n",
    "            \"role\": \"user\",\n",
    "            \"content\": \"How can I improve the copy on this website?\"\n",
    "        }\n",
    "    ]\n",
    "}\n",
    "\n",
    "response = requests.post(\n",
    "    \"https://api.anthropic.com/v1/messages\",\n",
    "    headers=headers,\n",
    "    data=json.dumps(data)\n",
    ")\n",
    "\n",
    "print(response.json())\n",
    "\n"
   ]
  }
 ],
 "metadata": {
  "kernelspec": {
   "display_name": "Python 3",
   "language": "python",
   "name": "python3"
  },
  "language_info": {
   "codemirror_mode": {
    "name": "ipython",
    "version": 3
   },
   "file_extension": ".py",
   "mimetype": "text/x-python",
   "name": "python",
   "nbconvert_exporter": "python",
   "pygments_lexer": "ipython3",
   "version": "3.10.13"
  }
 },
 "nbformat": 4,
 "nbformat_minor": 2
}
